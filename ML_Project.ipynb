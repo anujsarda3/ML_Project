{
 "cells": [
  {
   "cell_type": "code",
   "execution_count": 1,
   "id": "3d787404",
   "metadata": {},
   "outputs": [],
   "source": [
    "import pandas as pd\n",
    "import numpy as np\n",
    "import seaborn as sns\n",
    "import matplotlib.pyplot as plt\n",
    "from datetime import datetime\n",
    "from pytz import timezone\n",
    "from datetime import timedelta \n",
    "import pgeocode\n",
    "import time\n",
    "from sklearn import preprocessing\n",
    "import mpu\n",
    "from uszipcode import SearchEngine\n",
    "from sklearn.model_selection import train_test_split\n",
    "from sklearn.metrics import accuracy_score"
   ]
  },
  {
   "cell_type": "markdown",
   "id": "efe2c46a",
   "metadata": {},
   "source": [
    "# Reading File"
   ]
  },
  {
   "cell_type": "code",
   "execution_count": null,
   "id": "539f6f65",
   "metadata": {},
   "outputs": [],
   "source": [
    "df = pd.read_csv('eBay_ML_Challenge_Dataset_2021_train.tsv',sep='\\t')"
   ]
  },
  {
   "cell_type": "code",
   "execution_count": null,
   "id": "821f03a8",
   "metadata": {},
   "outputs": [],
   "source": [
    "df.head()"
   ]
  },
  {
   "cell_type": "markdown",
   "id": "629eaf7b",
   "metadata": {},
   "source": [
    "# Drop null values from the dataset\n"
   ]
  },
  {
   "cell_type": "code",
   "execution_count": null,
   "id": "29081cd9",
   "metadata": {},
   "outputs": [],
   "source": [
    "df.isnull()"
   ]
  },
  {
   "cell_type": "code",
   "execution_count": null,
   "id": "051f2118",
   "metadata": {},
   "outputs": [],
   "source": [
    "df.dropna(inplace=True)"
   ]
  },
  {
   "cell_type": "markdown",
   "id": "8b40354c",
   "metadata": {},
   "source": [
    "## Dropping Seller id column as it is not of use"
   ]
  },
  {
   "cell_type": "code",
   "execution_count": null,
   "id": "ea588ab9",
   "metadata": {},
   "outputs": [],
   "source": [
    "df.drop('seller_id',axis=1,inplace=True)"
   ]
  },
  {
   "cell_type": "markdown",
   "id": "ac12c027",
   "metadata": {},
   "source": [
    "### Working with Item_zip and Buyer_zip"
   ]
  },
  {
   "cell_type": "code",
   "execution_count": null,
   "id": "2cf24a99",
   "metadata": {},
   "outputs": [],
   "source": [
    "#convert zip codes to one form\n",
    "df['item_zip'].unique()\n",
    "\n",
    "\n",
    "\n",
    "#zip codes with dashes\n",
    "long_zip_codes = df[df['item_zip'].str.len() > 5]\n",
    "print(long_zip_codes['item_zip'])\n",
    "\n",
    "\n",
    "\n",
    "'''307392 zip codes length >5 found and some with alphbets'''\n",
    "#Checking for null values\n",
    "print(df.item_zip.isnull().sum())\n",
    "'''1 present, remove'''\n",
    "df = df.loc[(df[\"item_zip\"].isnull()== False)]\n",
    "print(\"after removing\",df.item_zip.isnull().sum())\n",
    "\n",
    "\n",
    "\n",
    "'''checking for various combinations 1) 0-9a-zA-z has all three 2) 0-9a-z 3) a-z0-9 4) 0-9A-Z 5) A-Z0-9'''\n",
    "df[\"item_zip\"] = df[\"item_zip\"].str.strip('\"')\n",
    "df.drop(df[df.item_zip.str.contains(r'[^0-9a-zA-Z]')].index,inplace=True)\n",
    "df.drop(df[df.item_zip.str.contains(r'[^a-z0-9]')].index,inplace=True)\n",
    "df.drop(df[df.item_zip.str.contains(r'[^0-9a-z]')].index,inplace=True)\n",
    "df.drop(df[df.item_zip.str.contains(r'[^0-9A-Z]')].index,inplace=True)\n",
    "df.drop(df[df.item_zip.str.contains(r'[^A-Z0-9]')].index,inplace=True)\n",
    "#removing last 4 digits from 9-digit zip code\n",
    "\n",
    "\n",
    "\n",
    "df['item_zip'] = df['item_zip'].where(df['item_zip'].str.len() == 5,\n",
    "                                      df['item_zip'].str[:5])\n",
    "# print(\"After extracting 5 digit zip codes\", train_df['item_zip'])\n",
    "\n",
    "\n",
    "\n",
    "#checking conversion\n",
    "long_zip_codes = df[df['item_zip'].str.len() > 5]\n",
    "print(\"checking length\", long_zip_codes['item_zip']) #should be a empty dataframe"
   ]
  },
  {
   "cell_type": "code",
   "execution_count": null,
   "id": "e034a1dd",
   "metadata": {},
   "outputs": [],
   "source": [
    "#Convert all items in buyer zip code similarly\n",
    "\n",
    "\n",
    "\n",
    "df['buyer_zip'].unique()\n",
    "\n",
    "\n",
    "\n",
    "#zip codes > len 5\n",
    "long_zip_codes = df[df['buyer_zip'].str.len() > 5]\n",
    "print(\"long_zip_codes\",long_zip_codes['buyer_zip'])\n",
    "\n",
    "\n",
    "\n",
    "#check for nulls\n",
    "print(\"count of nulls\",df.buyer_zip.isnull().sum())\n",
    "'''no nulls'''\n",
    "\n",
    "\n",
    "\n",
    "#check for alphanumeric vlaues and drop them\n",
    "print(\"Shape of DF: \",df.shape)\n",
    "c = df[df.buyer_zip.str.contains(r'[^0-9a-zA-Z]')]\n",
    "print(c['buyer_zip'])\n",
    "'''checking for various combinations 1) 0-9a-zA-z has all three 2) 0-9a-z 3) a-z0-9 4) 0-9A-Z 5) A-Z0-9'''\n",
    "df[\"buyer_zip\"] = df[\"buyer_zip\"].str.strip('\"')\n",
    "df.drop(df[df.buyer_zip.str.contains(r'[^0-9a-zA-Z]')].index,inplace=True)\n",
    "df.drop(df[df.buyer_zip.str.contains(r'[^a-z0-9]')].index,inplace=True)\n",
    "df.drop(df[df.buyer_zip.str.contains(r'[^0-9a-z]')].index,inplace=True)\n",
    "df.drop(df[df.buyer_zip.str.contains(r'[^0-9A-Z]')].index,inplace=True)\n",
    "df.drop(df[df.buyer_zip.str.contains(r'[^A-Z0-9]')].index,inplace=True)\n",
    "print(\"Shape of DF: \",df.shape)\n",
    "\n",
    "\n",
    "#convert all zip codes to one form len = 5\n",
    "df['buyer_zip'] = df['buyer_zip'].where(df['buyer_zip'].str.len() == 5,\n",
    "                                        df['buyer_zip'].str[:5])\n",
    "print(\"After extracting 5 digit zip codes\", df['buyer_zip'])\n",
    "\n",
    "\n",
    "\n",
    "# c = train_df_updated[train_df_updated.buyer_zip.str.contains(r'[^0-9a-zA-Z]')]\n",
    "# print(c['buyer_zip'])"
   ]
  },
  {
   "cell_type": "markdown",
   "id": "e10f7907",
   "metadata": {},
   "source": [
    "# Working on Payment_Datetime, Acceptance_Time and Delivery_Date\n"
   ]
  },
  {
   "cell_type": "code",
   "execution_count": null,
   "id": "2a6ac9c4",
   "metadata": {},
   "outputs": [],
   "source": [
    "## convert the datetime to date based on timings\n",
    "def converttodate(dcu,dtc):\n",
    "    if(dcu > dtc):\n",
    "        return dtc.date()+timedelta(days=1)\n",
    "    else:\n",
    "        return dtc.date()"
   ]
  },
  {
   "cell_type": "markdown",
   "id": "5b50038b",
   "metadata": {},
   "source": [
    "### Removing records in which AcceptanceScan timestamp < Payment Datetime "
   ]
  },
  {
   "cell_type": "code",
   "execution_count": null,
   "id": "d98cf9a6",
   "metadata": {},
   "outputs": [],
   "source": [
    "# Converting Payment Datetime to UTC time\n",
    "List_Payment_Date = []\n",
    "List_Payment_DateTime = []\n",
    "for i in df['payment_datetime']:\n",
    "    date = pd.Timestamp(i[:-6]) #convert the date and time to Timestamp\n",
    "    offset = i[-5:]  #GMT Offset\n",
    "    time = datetime.strptime(offset, '%H:%M').time()  #convert GMT Offset to time\n",
    "    sign = i[-6:-5] #get the sign of the offset in order to add or substract the time\n",
    "    if sign=='-':\n",
    "        date_convert_utc = date + timedelta(hours=time.hour,minutes=time.minute)\n",
    "        date_to_compare = datetime.combine(date.date(), time)+timedelta(hours=14)\n",
    "    else:\n",
    "        date_convert_utc = date - timedelta(hours=time.hour,minutes=time.minute)\n",
    "        date_to_compare = datetime.combine(date.date(), datetime.strptime('14:00','%H:%M').time())-timedelta(hours=time.hour)\n",
    "\n",
    "    List_Payment_DateTime.append(date_convert_utc)\n",
    "    j = converttodate(date_convert_utc,date_to_compare)\n",
    "    List_Payment_Date.append(j)"
   ]
  },
  {
   "cell_type": "code",
   "execution_count": null,
   "id": "31ece55e",
   "metadata": {},
   "outputs": [],
   "source": [
    "# Converting Acceptance Datetime to UTC time\n",
    "List_Acceptance_Date = []\n",
    "List_Acceptance_DateTime = []\n",
    "for i in df['acceptance_scan_timestamp']:\n",
    "    date = pd.Timestamp(i[:-6]) #convert the date and time to Timestamp\n",
    "#     offset = i[-5:]  #GMT Offset\n",
    "    time = datetime.strptime(offset, '%H:%M').time()  #convert GMT Offset to time\n",
    "    sign = i[-6:-5] #get the sign of the offset in order to add or substract the time\n",
    "    if sign=='-':\n",
    "        date_convert_utc = date + timedelta(hours=time.hour,minutes=time.minute)\n",
    "        date_to_compare = datetime.combine(date.date(), time)+timedelta(hours=14)\n",
    "    else:\n",
    "        date_convert_utc = date - timedelta(hours=time.hour,minutes=time.minute)\n",
    "        date_to_compare = datetime.combine(date.date(), datetime.strptime('14:00','%H:%M').time())-timedelta(hours=time.hour)\n",
    "\n",
    "    List_Acceptance_DateTime.append(date_convert_utc)\n",
    "    j = converttodate(date_convert_utc,date_to_compare)\n",
    "    List_Acceptance_Date.append(j)"
   ]
  },
  {
   "cell_type": "code",
   "execution_count": null,
   "id": "ce22e1cc",
   "metadata": {},
   "outputs": [],
   "source": [
    "df['Payment_Date_Time'] = List_Payment_DateTime\n",
    "df['Acceptance_Date_Time'] = List_Acceptance_DateTime\n",
    "df['Payment_Date'] = List_Payment_Date\n",
    "df['Acceptance_Date'] = List_Acceptance_Date"
   ]
  },
  {
   "cell_type": "code",
   "execution_count": null,
   "id": "c1a13a3b",
   "metadata": {},
   "outputs": [],
   "source": [
    "df['Delivery_Date'] = pd.to_datetime(df['delivery_date'])\n",
    "df['Delivery_Date'] = df['Delivery_Date'].apply(lambda x: x.date())\n",
    "df['Delivery_Days']=(df['Delivery_Date']-df['Payment_Date']).dt.days"
   ]
  },
  {
   "cell_type": "code",
   "execution_count": null,
   "id": "2d763077",
   "metadata": {},
   "outputs": [],
   "source": [
    "df['Actual_Handling_Days_For_Seller'] = (df['Acceptance_Date']-df['Payment_Date']).dt.days\n",
    "df['Actual_Handling_Days_For_Carrier'] = (df['Delivery_Date']-df['Acceptance_Date']).dt.days"
   ]
  },
  {
   "cell_type": "code",
   "execution_count": null,
   "id": "c827fb62",
   "metadata": {},
   "outputs": [],
   "source": [
    "df = df[df['Delivery_Date']>=df['Acceptance_Date']]"
   ]
  },
  {
   "cell_type": "code",
   "execution_count": null,
   "id": "3757eecf",
   "metadata": {},
   "outputs": [],
   "source": [
    "df['declared_handling_days']=df['declared_handling_days'].astype('int')"
   ]
  },
  {
   "cell_type": "markdown",
   "id": "94fa2993",
   "metadata": {},
   "source": [
    "### Creating new feature instead of declared handling days\n"
   ]
  },
  {
   "cell_type": "code",
   "execution_count": null,
   "id": "586b281d",
   "metadata": {},
   "outputs": [],
   "source": [
    "df['Declared_Handling_Days_Offset']=df['Actual_Handling_Days_For_Seller']-df['declared_handling_days']"
   ]
  },
  {
   "cell_type": "code",
   "execution_count": 52,
   "id": "d4ffcdf6",
   "metadata": {},
   "outputs": [],
   "source": [
    "def offset_value(of):\n",
    "    if of<0:\n",
    "        return 0 \n",
    "    elif of==0:\n",
    "        return 1\n",
    "    else:\n",
    "        return 2"
   ]
  },
  {
   "cell_type": "code",
   "execution_count": null,
   "id": "655226d7",
   "metadata": {},
   "outputs": [],
   "source": [
    "df['Declared_Handling_Days_Offset'] = df['Declared_Handling_Days_Offset'].apply(offset_value)"
   ]
  },
  {
   "cell_type": "markdown",
   "id": "d8fcd46d",
   "metadata": {},
   "source": [
    "## Working on other columns"
   ]
  },
  {
   "cell_type": "markdown",
   "id": "c26d7bcb",
   "metadata": {},
   "source": [
    "#### B2C_C2C"
   ]
  },
  {
   "cell_type": "code",
   "execution_count": null,
   "id": "b8d21696",
   "metadata": {},
   "outputs": [],
   "source": [
    "df['b2c_c2c'].value_counts()"
   ]
  },
  {
   "cell_type": "code",
   "execution_count": null,
   "id": "88d7bb71",
   "metadata": {},
   "outputs": [],
   "source": [
    "### b2c_c2c = 0 -> b2c\n",
    "### b2c_c2c = 1 -> c2c\n",
    "df['b2c_c2c'] = pd.get_dummies(df['b2c_c2c'],drop_first=True)"
   ]
  },
  {
   "cell_type": "markdown",
   "id": "89648559",
   "metadata": {},
   "source": [
    "#### Shipping Fee"
   ]
  },
  {
   "cell_type": "code",
   "execution_count": null,
   "id": "a34f9e3d",
   "metadata": {},
   "outputs": [],
   "source": [
    "df['shipping_fee'] = df['shipping_fee'].round(0).astype('int')"
   ]
  },
  {
   "cell_type": "code",
   "execution_count": null,
   "id": "b5d92782",
   "metadata": {},
   "outputs": [],
   "source": [
    "df = df[df['shipping_fee'] >= 0]"
   ]
  },
  {
   "cell_type": "code",
   "execution_count": null,
   "id": "60014157",
   "metadata": {},
   "outputs": [],
   "source": [
    "#removing rows that have value counts less than 40000\n",
    "temp = df['shipping_fee'].value_counts().index[df['shipping_fee'].value_counts().values > 40000]\n",
    "df = df[df['shipping_fee'].isin(temp)]"
   ]
  },
  {
   "cell_type": "markdown",
   "id": "90dfabe8",
   "metadata": {},
   "source": [
    "#### Shipment Method ID"
   ]
  },
  {
   "cell_type": "code",
   "execution_count": null,
   "id": "c39484d7",
   "metadata": {},
   "outputs": [],
   "source": [
    "#Removing shipment method ID that have value counts less than 100000\n",
    "temp_shipment_id = df['shipment_method_id'].value_counts().index[(df['shipment_method_id'].value_counts()>100000).values]\n",
    "df = df[df['shipment_method_id'].isin(temp_shipment_id)]"
   ]
  },
  {
   "cell_type": "markdown",
   "id": "757aed4b",
   "metadata": {},
   "source": [
    "#### Category ID"
   ]
  },
  {
   "cell_type": "code",
   "execution_count": null,
   "id": "66f6f754",
   "metadata": {},
   "outputs": [],
   "source": [
    "temp_category = df['category_id'].value_counts().index[(df['category_id'].value_counts())>200000]\n",
    "df = df[df['category_id'].isin(temp_category)]"
   ]
  },
  {
   "cell_type": "markdown",
   "id": "783e44f2",
   "metadata": {},
   "source": [
    "#### Item Price"
   ]
  },
  {
   "cell_type": "code",
   "execution_count": null,
   "id": "c54a402a",
   "metadata": {},
   "outputs": [],
   "source": [
    "df['item_price'] = df['item_price'].round(0).astype('int')"
   ]
  },
  {
   "cell_type": "code",
   "execution_count": null,
   "id": "be704c6f",
   "metadata": {},
   "outputs": [],
   "source": [
    "temp_itemprice = df['item_price'].value_counts().index[(df['item_price'].value_counts()) > 4000]\n",
    "df = df[df['item_price'].isin(temp_itemprice)]"
   ]
  },
  {
   "cell_type": "markdown",
   "id": "d73e7316",
   "metadata": {},
   "source": [
    "#### Quantity"
   ]
  },
  {
   "cell_type": "code",
   "execution_count": null,
   "id": "c145e9b2",
   "metadata": {},
   "outputs": [],
   "source": [
    "# Removing the records that have Quantity > 1, as the dataset is quite imbalanced\n",
    "df = df[df['quantity']==1]"
   ]
  },
  {
   "cell_type": "markdown",
   "id": "b7ad2013",
   "metadata": {},
   "source": [
    "#### Weight Units"
   ]
  },
  {
   "cell_type": "code",
   "execution_count": null,
   "id": "b577a216",
   "metadata": {},
   "outputs": [],
   "source": [
    "# Removing the weight_units other than 1, as the dataset is quite imbalanced\n",
    "df = df[df['weight_units']==1]"
   ]
  },
  {
   "cell_type": "markdown",
   "id": "8ce61386",
   "metadata": {},
   "source": [
    "### Dummy variable for package size"
   ]
  },
  {
   "cell_type": "code",
   "execution_count": 51,
   "id": "8cde0171",
   "metadata": {},
   "outputs": [
    {
     "data": {
      "text/plain": [
       "PACKAGE_THICK_ENVELOPE    7204950\n",
       "LETTER                     229629\n",
       "LARGE_ENVELOPE             133421\n",
       "LARGE_PACKAGE               75273\n",
       "Name: package_size, dtype: int64"
      ]
     },
     "execution_count": 51,
     "metadata": {},
     "output_type": "execute_result"
    }
   ],
   "source": [
    "df['package_size'].value_counts()"
   ]
  },
  {
   "cell_type": "code",
   "execution_count": null,
   "id": "70ce3dd9",
   "metadata": {},
   "outputs": [],
   "source": [
    "PS_dummies = pd.get_dummies(df['package_size'],prefix='PS_',drop_first=True)\n",
    "df = pd.concat([df,PS_dummies],axis=1)"
   ]
  },
  {
   "cell_type": "code",
   "execution_count": 52,
   "id": "22a526fa",
   "metadata": {},
   "outputs": [],
   "source": [
    "def pack_size(col):\n",
    "    if col == 'LETTER':\n",
    "        return 1\n",
    "    elif col == 'PACKAGE_THICK_ENVELOPE':\n",
    "        return 0\n",
    "    elif col == 'LARGE_ENVELOPE':\n",
    "        return 2\n",
    "    else:\n",
    "        return 3"
   ]
  },
  {
   "cell_type": "code",
   "execution_count": 11,
   "id": "3e7e8048",
   "metadata": {},
   "outputs": [],
   "source": [
    "df = df[df['package_size'] != 'NONE']\n",
    "df = df[df['package_size'] != 'EXTRA_LARGE_PACKAGE']\n",
    "df = df[df['package_size'] != 'VERY_LARGE_PACKAGE']"
   ]
  },
  {
   "cell_type": "code",
   "execution_count": 53,
   "id": "52273c73",
   "metadata": {},
   "outputs": [],
   "source": [
    "df['package_size'] = df['package_size'].apply(pack_size)"
   ]
  },
  {
   "cell_type": "markdown",
   "id": "84480413",
   "metadata": {},
   "source": [
    "# Calculate distance between Zip codes"
   ]
  },
  {
   "cell_type": "code",
   "execution_count": null,
   "id": "1abf74e7",
   "metadata": {},
   "outputs": [],
   "source": [
    "search = SearchEngine()\n",
    "distances = []\n",
    "for i in range(len(df)):    \n",
    "    zip1 = search.by_zipcode(df['item_zip'].iloc[i])\n",
    "    lat1 =zip1.lat\n",
    "    long1 =zip1.lng\n",
    "    zip2 =search.by_zipcode(df['buyer_zip'].iloc[i])\n",
    "    lat2 =zip2.lat\n",
    "    long2 =zip2.lng\n",
    "    if lat1!=None and long1!=None and lat2!=None and long2!=None:\n",
    "        distances.append(mpu.haversine_distance((lat1,long1),(lat2,long2)))\n",
    "    else:\n",
    "        distances.append(-1)"
   ]
  },
  {
   "cell_type": "code",
   "execution_count": null,
   "id": "5f3a041f",
   "metadata": {},
   "outputs": [],
   "source": [
    "df[\"Distances_ZIP\"] = distances"
   ]
  },
  {
   "cell_type": "code",
   "execution_count": null,
   "id": "57c6ca11",
   "metadata": {},
   "outputs": [],
   "source": [
    "df['Distances_ZIP'] = df['Distances_ZIP'].round(2)"
   ]
  },
  {
   "cell_type": "code",
   "execution_count": null,
   "id": "ed04e69e",
   "metadata": {},
   "outputs": [],
   "source": [
    "df['Distances_ZIP'] = df[df['Distances_ZIP']>=0]"
   ]
  },
  {
   "cell_type": "markdown",
   "id": "5f21c96e",
   "metadata": {},
   "source": [
    "# Splitting Data into Train and Test"
   ]
  },
  {
   "cell_type": "code",
   "execution_count": 61,
   "id": "fa505ca9",
   "metadata": {},
   "outputs": [],
   "source": [
    "Train = df[mask]\n",
    "Test = df[~mask]"
   ]
  },
  {
   "cell_type": "code",
   "execution_count": 62,
   "id": "e8435bbc",
   "metadata": {},
   "outputs": [],
   "source": [
    "Train.to_csv(\"Final_Train.csv\",index=False)\n",
    "Test.to_csv(\"Final_Test.csv\",index=False)"
   ]
  },
  {
   "cell_type": "code",
   "execution_count": 2,
   "id": "fb4659d3",
   "metadata": {},
   "outputs": [],
   "source": [
    "df_train = pd.read_csv(\"Final_Train.csv\")\n",
    "df_test = pd.read_csv(\"Final_Test.csv\")"
   ]
  },
  {
   "cell_type": "code",
   "execution_count": 3,
   "id": "606bb0a4",
   "metadata": {},
   "outputs": [
    {
     "data": {
      "text/plain": [
       "(5303974, 30)"
      ]
     },
     "execution_count": 3,
     "metadata": {},
     "output_type": "execute_result"
    }
   ],
   "source": [
    "df_train.shape"
   ]
  },
  {
   "cell_type": "markdown",
   "id": "afca68ca",
   "metadata": {},
   "source": [
    "# Model Training"
   ]
  },
  {
   "cell_type": "markdown",
   "id": "016a8c1c",
   "metadata": {},
   "source": [
    "## Columns before features extraction"
   ]
  },
  {
   "cell_type": "markdown",
   "id": "ad8687d3",
   "metadata": {},
   "source": [
    "['b2c_c2c', 'declared_handling_days','shipment_method_id', 'shipping_fee', 'carrier_min_estimate','carrier_max_estimate', 'category_id','item_price', 'weight','package_size','Delivery_Days']"
   ]
  },
  {
   "cell_type": "code",
   "execution_count": 3,
   "id": "51bdd95f",
   "metadata": {},
   "outputs": [],
   "source": [
    "df_train_before = df_train[['b2c_c2c', 'declared_handling_days','shipment_method_id', 'shipping_fee', 'carrier_min_estimate','carrier_max_estimate', 'category_id','item_price', 'weight','package_size','Delivery_Days']]\n",
    "df_test_before = df_test[['b2c_c2c', 'declared_handling_days','shipment_method_id', 'shipping_fee', 'carrier_min_estimate','carrier_max_estimate', 'category_id','item_price', 'weight','package_size','Delivery_Days']]"
   ]
  },
  {
   "cell_type": "code",
   "execution_count": 65,
   "id": "d350ecd9",
   "metadata": {},
   "outputs": [
    {
     "data": {
      "text/html": [
       "<div>\n",
       "<style scoped>\n",
       "    .dataframe tbody tr th:only-of-type {\n",
       "        vertical-align: middle;\n",
       "    }\n",
       "\n",
       "    .dataframe tbody tr th {\n",
       "        vertical-align: top;\n",
       "    }\n",
       "\n",
       "    .dataframe thead th {\n",
       "        text-align: right;\n",
       "    }\n",
       "</style>\n",
       "<table border=\"1\" class=\"dataframe\">\n",
       "  <thead>\n",
       "    <tr style=\"text-align: right;\">\n",
       "      <th></th>\n",
       "      <th>b2c_c2c</th>\n",
       "      <th>declared_handling_days</th>\n",
       "      <th>shipment_method_id</th>\n",
       "      <th>shipping_fee</th>\n",
       "      <th>carrier_min_estimate</th>\n",
       "      <th>carrier_max_estimate</th>\n",
       "      <th>category_id</th>\n",
       "      <th>item_price</th>\n",
       "      <th>weight</th>\n",
       "      <th>package_size</th>\n",
       "      <th>Delivery_Days</th>\n",
       "    </tr>\n",
       "  </thead>\n",
       "  <tbody>\n",
       "    <tr>\n",
       "      <th>0</th>\n",
       "      <td>0</td>\n",
       "      <td>3</td>\n",
       "      <td>0</td>\n",
       "      <td>0</td>\n",
       "      <td>3</td>\n",
       "      <td>5</td>\n",
       "      <td>13</td>\n",
       "      <td>28</td>\n",
       "      <td>5</td>\n",
       "      <td>1</td>\n",
       "      <td>5</td>\n",
       "    </tr>\n",
       "    <tr>\n",
       "      <th>1</th>\n",
       "      <td>0</td>\n",
       "      <td>1</td>\n",
       "      <td>0</td>\n",
       "      <td>4</td>\n",
       "      <td>3</td>\n",
       "      <td>5</td>\n",
       "      <td>1</td>\n",
       "      <td>20</td>\n",
       "      <td>9</td>\n",
       "      <td>0</td>\n",
       "      <td>4</td>\n",
       "    </tr>\n",
       "    <tr>\n",
       "      <th>2</th>\n",
       "      <td>0</td>\n",
       "      <td>1</td>\n",
       "      <td>0</td>\n",
       "      <td>0</td>\n",
       "      <td>3</td>\n",
       "      <td>5</td>\n",
       "      <td>1</td>\n",
       "      <td>36</td>\n",
       "      <td>8</td>\n",
       "      <td>0</td>\n",
       "      <td>5</td>\n",
       "    </tr>\n",
       "    <tr>\n",
       "      <th>3</th>\n",
       "      <td>0</td>\n",
       "      <td>1</td>\n",
       "      <td>0</td>\n",
       "      <td>0</td>\n",
       "      <td>3</td>\n",
       "      <td>5</td>\n",
       "      <td>1</td>\n",
       "      <td>25</td>\n",
       "      <td>3</td>\n",
       "      <td>0</td>\n",
       "      <td>3</td>\n",
       "    </tr>\n",
       "    <tr>\n",
       "      <th>4</th>\n",
       "      <td>0</td>\n",
       "      <td>1</td>\n",
       "      <td>0</td>\n",
       "      <td>0</td>\n",
       "      <td>3</td>\n",
       "      <td>5</td>\n",
       "      <td>3</td>\n",
       "      <td>10</td>\n",
       "      <td>1</td>\n",
       "      <td>0</td>\n",
       "      <td>3</td>\n",
       "    </tr>\n",
       "    <tr>\n",
       "      <th>...</th>\n",
       "      <td>...</td>\n",
       "      <td>...</td>\n",
       "      <td>...</td>\n",
       "      <td>...</td>\n",
       "      <td>...</td>\n",
       "      <td>...</td>\n",
       "      <td>...</td>\n",
       "      <td>...</td>\n",
       "      <td>...</td>\n",
       "      <td>...</td>\n",
       "      <td>...</td>\n",
       "    </tr>\n",
       "    <tr>\n",
       "      <th>5303969</th>\n",
       "      <td>0</td>\n",
       "      <td>1</td>\n",
       "      <td>0</td>\n",
       "      <td>0</td>\n",
       "      <td>3</td>\n",
       "      <td>5</td>\n",
       "      <td>2</td>\n",
       "      <td>8</td>\n",
       "      <td>8</td>\n",
       "      <td>0</td>\n",
       "      <td>2</td>\n",
       "    </tr>\n",
       "    <tr>\n",
       "      <th>5303970</th>\n",
       "      <td>0</td>\n",
       "      <td>2</td>\n",
       "      <td>0</td>\n",
       "      <td>5</td>\n",
       "      <td>3</td>\n",
       "      <td>5</td>\n",
       "      <td>12</td>\n",
       "      <td>14</td>\n",
       "      <td>11</td>\n",
       "      <td>2</td>\n",
       "      <td>4</td>\n",
       "    </tr>\n",
       "    <tr>\n",
       "      <th>5303971</th>\n",
       "      <td>0</td>\n",
       "      <td>1</td>\n",
       "      <td>1</td>\n",
       "      <td>8</td>\n",
       "      <td>2</td>\n",
       "      <td>5</td>\n",
       "      <td>13</td>\n",
       "      <td>8</td>\n",
       "      <td>13</td>\n",
       "      <td>0</td>\n",
       "      <td>4</td>\n",
       "    </tr>\n",
       "    <tr>\n",
       "      <th>5303972</th>\n",
       "      <td>0</td>\n",
       "      <td>1</td>\n",
       "      <td>0</td>\n",
       "      <td>3</td>\n",
       "      <td>3</td>\n",
       "      <td>5</td>\n",
       "      <td>4</td>\n",
       "      <td>11</td>\n",
       "      <td>2</td>\n",
       "      <td>0</td>\n",
       "      <td>3</td>\n",
       "    </tr>\n",
       "    <tr>\n",
       "      <th>5303973</th>\n",
       "      <td>0</td>\n",
       "      <td>0</td>\n",
       "      <td>0</td>\n",
       "      <td>0</td>\n",
       "      <td>3</td>\n",
       "      <td>5</td>\n",
       "      <td>15</td>\n",
       "      <td>73</td>\n",
       "      <td>7</td>\n",
       "      <td>0</td>\n",
       "      <td>3</td>\n",
       "    </tr>\n",
       "  </tbody>\n",
       "</table>\n",
       "<p>5303974 rows × 11 columns</p>\n",
       "</div>"
      ],
      "text/plain": [
       "         b2c_c2c  declared_handling_days  shipment_method_id  shipping_fee  \\\n",
       "0              0                       3                   0             0   \n",
       "1              0                       1                   0             4   \n",
       "2              0                       1                   0             0   \n",
       "3              0                       1                   0             0   \n",
       "4              0                       1                   0             0   \n",
       "...          ...                     ...                 ...           ...   \n",
       "5303969        0                       1                   0             0   \n",
       "5303970        0                       2                   0             5   \n",
       "5303971        0                       1                   1             8   \n",
       "5303972        0                       1                   0             3   \n",
       "5303973        0                       0                   0             0   \n",
       "\n",
       "         carrier_min_estimate  carrier_max_estimate  category_id  item_price  \\\n",
       "0                           3                     5           13          28   \n",
       "1                           3                     5            1          20   \n",
       "2                           3                     5            1          36   \n",
       "3                           3                     5            1          25   \n",
       "4                           3                     5            3          10   \n",
       "...                       ...                   ...          ...         ...   \n",
       "5303969                     3                     5            2           8   \n",
       "5303970                     3                     5           12          14   \n",
       "5303971                     2                     5           13           8   \n",
       "5303972                     3                     5            4          11   \n",
       "5303973                     3                     5           15          73   \n",
       "\n",
       "         weight  package_size  Delivery_Days  \n",
       "0             5             1              5  \n",
       "1             9             0              4  \n",
       "2             8             0              5  \n",
       "3             3             0              3  \n",
       "4             1             0              3  \n",
       "...         ...           ...            ...  \n",
       "5303969       8             0              2  \n",
       "5303970      11             2              4  \n",
       "5303971      13             0              4  \n",
       "5303972       2             0              3  \n",
       "5303973       7             0              3  \n",
       "\n",
       "[5303974 rows x 11 columns]"
      ]
     },
     "execution_count": 65,
     "metadata": {},
     "output_type": "execute_result"
    }
   ],
   "source": [
    "df_train_before"
   ]
  },
  {
   "cell_type": "code",
   "execution_count": 67,
   "id": "86de878a",
   "metadata": {},
   "outputs": [
    {
     "data": {
      "text/html": [
       "<div>\n",
       "<style scoped>\n",
       "    .dataframe tbody tr th:only-of-type {\n",
       "        vertical-align: middle;\n",
       "    }\n",
       "\n",
       "    .dataframe tbody tr th {\n",
       "        vertical-align: top;\n",
       "    }\n",
       "\n",
       "    .dataframe thead th {\n",
       "        text-align: right;\n",
       "    }\n",
       "</style>\n",
       "<table border=\"1\" class=\"dataframe\">\n",
       "  <thead>\n",
       "    <tr style=\"text-align: right;\">\n",
       "      <th></th>\n",
       "      <th>b2c_c2c</th>\n",
       "      <th>declared_handling_days</th>\n",
       "      <th>shipment_method_id</th>\n",
       "      <th>shipping_fee</th>\n",
       "      <th>carrier_min_estimate</th>\n",
       "      <th>carrier_max_estimate</th>\n",
       "      <th>category_id</th>\n",
       "      <th>item_price</th>\n",
       "      <th>weight</th>\n",
       "      <th>package_size</th>\n",
       "      <th>Delivery_Days</th>\n",
       "    </tr>\n",
       "  </thead>\n",
       "  <tbody>\n",
       "    <tr>\n",
       "      <th>b2c_c2c</th>\n",
       "      <td>1.000000</td>\n",
       "      <td>0.263049</td>\n",
       "      <td>0.086320</td>\n",
       "      <td>0.305002</td>\n",
       "      <td>-0.148104</td>\n",
       "      <td>0.093010</td>\n",
       "      <td>0.023806</td>\n",
       "      <td>-0.001412</td>\n",
       "      <td>0.020094</td>\n",
       "      <td>-0.060019</td>\n",
       "      <td>0.067090</td>\n",
       "    </tr>\n",
       "    <tr>\n",
       "      <th>declared_handling_days</th>\n",
       "      <td>0.263049</td>\n",
       "      <td>1.000000</td>\n",
       "      <td>0.059620</td>\n",
       "      <td>0.191256</td>\n",
       "      <td>-0.099221</td>\n",
       "      <td>0.071862</td>\n",
       "      <td>0.018114</td>\n",
       "      <td>0.037070</td>\n",
       "      <td>0.021438</td>\n",
       "      <td>-0.028737</td>\n",
       "      <td>0.283270</td>\n",
       "    </tr>\n",
       "    <tr>\n",
       "      <th>shipment_method_id</th>\n",
       "      <td>0.086320</td>\n",
       "      <td>0.059620</td>\n",
       "      <td>1.000000</td>\n",
       "      <td>0.196926</td>\n",
       "      <td>-0.748467</td>\n",
       "      <td>0.556013</td>\n",
       "      <td>0.111918</td>\n",
       "      <td>0.124951</td>\n",
       "      <td>0.151466</td>\n",
       "      <td>0.005641</td>\n",
       "      <td>0.055393</td>\n",
       "    </tr>\n",
       "    <tr>\n",
       "      <th>shipping_fee</th>\n",
       "      <td>0.305002</td>\n",
       "      <td>0.191256</td>\n",
       "      <td>0.196926</td>\n",
       "      <td>1.000000</td>\n",
       "      <td>-0.393948</td>\n",
       "      <td>0.093304</td>\n",
       "      <td>-0.108151</td>\n",
       "      <td>0.118753</td>\n",
       "      <td>0.114443</td>\n",
       "      <td>-0.042248</td>\n",
       "      <td>0.003642</td>\n",
       "    </tr>\n",
       "    <tr>\n",
       "      <th>carrier_min_estimate</th>\n",
       "      <td>-0.148104</td>\n",
       "      <td>-0.099221</td>\n",
       "      <td>-0.748467</td>\n",
       "      <td>-0.393948</td>\n",
       "      <td>1.000000</td>\n",
       "      <td>-0.483727</td>\n",
       "      <td>-0.053570</td>\n",
       "      <td>-0.269746</td>\n",
       "      <td>-0.227037</td>\n",
       "      <td>-0.000636</td>\n",
       "      <td>-0.033957</td>\n",
       "    </tr>\n",
       "    <tr>\n",
       "      <th>carrier_max_estimate</th>\n",
       "      <td>0.093010</td>\n",
       "      <td>0.071862</td>\n",
       "      <td>0.556013</td>\n",
       "      <td>0.093304</td>\n",
       "      <td>-0.483727</td>\n",
       "      <td>1.000000</td>\n",
       "      <td>0.200267</td>\n",
       "      <td>0.015381</td>\n",
       "      <td>0.103028</td>\n",
       "      <td>0.017843</td>\n",
       "      <td>0.120574</td>\n",
       "    </tr>\n",
       "    <tr>\n",
       "      <th>category_id</th>\n",
       "      <td>0.023806</td>\n",
       "      <td>0.018114</td>\n",
       "      <td>0.111918</td>\n",
       "      <td>-0.108151</td>\n",
       "      <td>-0.053570</td>\n",
       "      <td>0.200267</td>\n",
       "      <td>1.000000</td>\n",
       "      <td>-0.043911</td>\n",
       "      <td>0.013021</td>\n",
       "      <td>0.006536</td>\n",
       "      <td>0.071457</td>\n",
       "    </tr>\n",
       "    <tr>\n",
       "      <th>item_price</th>\n",
       "      <td>-0.001412</td>\n",
       "      <td>0.037070</td>\n",
       "      <td>0.124951</td>\n",
       "      <td>0.118753</td>\n",
       "      <td>-0.269746</td>\n",
       "      <td>0.015381</td>\n",
       "      <td>-0.043911</td>\n",
       "      <td>1.000000</td>\n",
       "      <td>0.134505</td>\n",
       "      <td>0.002779</td>\n",
       "      <td>-0.016177</td>\n",
       "    </tr>\n",
       "    <tr>\n",
       "      <th>weight</th>\n",
       "      <td>0.020094</td>\n",
       "      <td>0.021438</td>\n",
       "      <td>0.151466</td>\n",
       "      <td>0.114443</td>\n",
       "      <td>-0.227037</td>\n",
       "      <td>0.103028</td>\n",
       "      <td>0.013021</td>\n",
       "      <td>0.134505</td>\n",
       "      <td>1.000000</td>\n",
       "      <td>0.023110</td>\n",
       "      <td>0.005592</td>\n",
       "    </tr>\n",
       "    <tr>\n",
       "      <th>package_size</th>\n",
       "      <td>-0.060019</td>\n",
       "      <td>-0.028737</td>\n",
       "      <td>0.005641</td>\n",
       "      <td>-0.042248</td>\n",
       "      <td>-0.000636</td>\n",
       "      <td>0.017843</td>\n",
       "      <td>0.006536</td>\n",
       "      <td>0.002779</td>\n",
       "      <td>0.023110</td>\n",
       "      <td>1.000000</td>\n",
       "      <td>-0.004289</td>\n",
       "    </tr>\n",
       "    <tr>\n",
       "      <th>Delivery_Days</th>\n",
       "      <td>0.067090</td>\n",
       "      <td>0.283270</td>\n",
       "      <td>0.055393</td>\n",
       "      <td>0.003642</td>\n",
       "      <td>-0.033957</td>\n",
       "      <td>0.120574</td>\n",
       "      <td>0.071457</td>\n",
       "      <td>-0.016177</td>\n",
       "      <td>0.005592</td>\n",
       "      <td>-0.004289</td>\n",
       "      <td>1.000000</td>\n",
       "    </tr>\n",
       "  </tbody>\n",
       "</table>\n",
       "</div>"
      ],
      "text/plain": [
       "                         b2c_c2c  declared_handling_days  shipment_method_id  \\\n",
       "b2c_c2c                 1.000000                0.263049            0.086320   \n",
       "declared_handling_days  0.263049                1.000000            0.059620   \n",
       "shipment_method_id      0.086320                0.059620            1.000000   \n",
       "shipping_fee            0.305002                0.191256            0.196926   \n",
       "carrier_min_estimate   -0.148104               -0.099221           -0.748467   \n",
       "carrier_max_estimate    0.093010                0.071862            0.556013   \n",
       "category_id             0.023806                0.018114            0.111918   \n",
       "item_price             -0.001412                0.037070            0.124951   \n",
       "weight                  0.020094                0.021438            0.151466   \n",
       "package_size           -0.060019               -0.028737            0.005641   \n",
       "Delivery_Days           0.067090                0.283270            0.055393   \n",
       "\n",
       "                        shipping_fee  carrier_min_estimate  \\\n",
       "b2c_c2c                     0.305002             -0.148104   \n",
       "declared_handling_days      0.191256             -0.099221   \n",
       "shipment_method_id          0.196926             -0.748467   \n",
       "shipping_fee                1.000000             -0.393948   \n",
       "carrier_min_estimate       -0.393948              1.000000   \n",
       "carrier_max_estimate        0.093304             -0.483727   \n",
       "category_id                -0.108151             -0.053570   \n",
       "item_price                  0.118753             -0.269746   \n",
       "weight                      0.114443             -0.227037   \n",
       "package_size               -0.042248             -0.000636   \n",
       "Delivery_Days               0.003642             -0.033957   \n",
       "\n",
       "                        carrier_max_estimate  category_id  item_price  \\\n",
       "b2c_c2c                             0.093010     0.023806   -0.001412   \n",
       "declared_handling_days              0.071862     0.018114    0.037070   \n",
       "shipment_method_id                  0.556013     0.111918    0.124951   \n",
       "shipping_fee                        0.093304    -0.108151    0.118753   \n",
       "carrier_min_estimate               -0.483727    -0.053570   -0.269746   \n",
       "carrier_max_estimate                1.000000     0.200267    0.015381   \n",
       "category_id                         0.200267     1.000000   -0.043911   \n",
       "item_price                          0.015381    -0.043911    1.000000   \n",
       "weight                              0.103028     0.013021    0.134505   \n",
       "package_size                        0.017843     0.006536    0.002779   \n",
       "Delivery_Days                       0.120574     0.071457   -0.016177   \n",
       "\n",
       "                          weight  package_size  Delivery_Days  \n",
       "b2c_c2c                 0.020094     -0.060019       0.067090  \n",
       "declared_handling_days  0.021438     -0.028737       0.283270  \n",
       "shipment_method_id      0.151466      0.005641       0.055393  \n",
       "shipping_fee            0.114443     -0.042248       0.003642  \n",
       "carrier_min_estimate   -0.227037     -0.000636      -0.033957  \n",
       "carrier_max_estimate    0.103028      0.017843       0.120574  \n",
       "category_id             0.013021      0.006536       0.071457  \n",
       "item_price              0.134505      0.002779      -0.016177  \n",
       "weight                  1.000000      0.023110       0.005592  \n",
       "package_size            0.023110      1.000000      -0.004289  \n",
       "Delivery_Days           0.005592     -0.004289       1.000000  "
      ]
     },
     "execution_count": 67,
     "metadata": {},
     "output_type": "execute_result"
    }
   ],
   "source": [
    "df_train_before.corr()"
   ]
  },
  {
   "cell_type": "code",
   "execution_count": 68,
   "id": "db1fbae5",
   "metadata": {},
   "outputs": [
    {
     "data": {
      "text/plain": [
       "<AxesSubplot:>"
      ]
     },
     "execution_count": 68,
     "metadata": {},
     "output_type": "execute_result"
    },
    {
     "data": {
      "image/png": "[encoded data removed]",
      "text/plain": [
       "<Figure size 432x288 with 2 Axes>"
      ]
     },
     "metadata": {
      "needs_background": "light"
     },
     "output_type": "display_data"
    }
   ],
   "source": [
    "sns.heatmap(df_train_before.corr())"
   ]
  },
  {
   "cell_type": "code",
   "execution_count": 4,
   "id": "bd945291",
   "metadata": {},
   "outputs": [],
   "source": [
    "X_trainb = df_train_before.loc[:,df_train_before.columns != 'Delivery_Days']\n",
    "y_trainb = df_train_before['Delivery_Days']\n",
    "X_testb = df_test_before.loc[:,df_test_before.columns != 'Delivery_Days']\n",
    "y_testb = df_test_before['Delivery_Days']"
   ]
  },
  {
   "cell_type": "markdown",
   "id": "7fc9b465",
   "metadata": {},
   "source": [
    "## Calculate Loss Function"
   ]
  },
  {
   "cell_type": "code",
   "execution_count": 7,
   "id": "6ff5f7c4",
   "metadata": {},
   "outputs": [],
   "source": [
    "Loss_function_Before = []\n",
    "Loss_function_After = []"
   ]
  },
  {
   "cell_type": "code",
   "execution_count": 5,
   "id": "1f2f5b78",
   "metadata": {},
   "outputs": [],
   "source": [
    "def calculate_loss(DD,PDD):\n",
    "    Early_Shipments = 0\n",
    "    Late_Shipments= 0\n",
    "    correct =0\n",
    "    for i in range(len(DD)):\n",
    "        days = DD.iloc[i] - PDD.iloc[i]\n",
    "        if days>0:\n",
    "            Early_Shipments += days\n",
    "        elif days<0:\n",
    "            Late_Shipments -= days\n",
    "        else:\n",
    "            correct +=1\n",
    "    N = len(DD)\n",
    "    Loss = (0.4*Early_Shipments+0.6*Late_Shipments)/N\n",
    "    return Loss  "
   ]
  },
  {
   "cell_type": "markdown",
   "id": "94af5663",
   "metadata": {},
   "source": [
    "## Multi-Linear Regression"
   ]
  },
  {
   "cell_type": "code",
   "execution_count": 6,
   "id": "a6f2847e",
   "metadata": {},
   "outputs": [
    {
     "data": {
      "text/plain": [
       "LinearRegression()"
      ]
     },
     "execution_count": 6,
     "metadata": {},
     "output_type": "execute_result"
    }
   ],
   "source": [
    "from sklearn.linear_model import LinearRegression\n",
    "# creating an object of LinearRegression class\n",
    "LRB = LinearRegression()\n",
    "# fitting the training data\n",
    "LRB.fit(X_trainb,y_trainb)"
   ]
  },
  {
   "cell_type": "markdown",
   "id": "17875ad9",
   "metadata": {},
   "source": [
    "#### On Test set"
   ]
  },
  {
   "cell_type": "code",
   "execution_count": 8,
   "id": "4183df4f",
   "metadata": {},
   "outputs": [
    {
     "name": "stdout",
     "output_type": "stream",
     "text": [
      "0.7792606666666667\n"
     ]
    }
   ],
   "source": [
    "y_test_predb =  LRB.predict(X_testb)\n",
    "y_predb = y_test_predb.round(0)\n",
    "df_test_pred_B = pd.DataFrame(y_testb)\n",
    "df_test_pred_B['Pred_LRB'] = y_predb\n",
    "Loss_Test_LRB = calculate_loss(df_test_pred_B['Delivery_Days'],df_test_pred_B['Pred_LRB'])\n",
    "Loss_function_Before.append(Loss_Test_LRB)\n",
    "print(Loss_Test_LRB)"
   ]
  },
  {
   "cell_type": "markdown",
   "id": "73370fea",
   "metadata": {},
   "source": [
    "## RandomForest"
   ]
  },
  {
   "cell_type": "code",
   "execution_count": 9,
   "id": "14ef0260",
   "metadata": {},
   "outputs": [],
   "source": [
    "from sklearn.ensemble import RandomForestClassifier"
   ]
  },
  {
   "cell_type": "code",
   "execution_count": 10,
   "id": "adcbe7ca",
   "metadata": {},
   "outputs": [
    {
     "data": {
      "text/plain": [
       "RandomForestClassifier(max_depth=2, random_state=0)"
      ]
     },
     "execution_count": 10,
     "metadata": {},
     "output_type": "execute_result"
    }
   ],
   "source": [
    "clfb = RandomForestClassifier(max_depth=2, random_state=0)\n",
    "clfb.fit(X_trainb, y_trainb)"
   ]
  },
  {
   "cell_type": "markdown",
   "id": "892885b1",
   "metadata": {},
   "source": [
    "#### On Test"
   ]
  },
  {
   "cell_type": "code",
   "execution_count": 11,
   "id": "a8103639",
   "metadata": {},
   "outputs": [
    {
     "name": "stdout",
     "output_type": "stream",
     "text": [
      "0.6739013333333335\n"
     ]
    }
   ],
   "source": [
    "RF_y_test_predb =  clfb.predict(X_testb)\n",
    "df_test_pred_B['Pred_RF'] = RF_y_test_predb.round(0)\n",
    "Loss_Test_RF = calculate_loss(df_test_pred_B['Delivery_Days'],df_test_pred_B['Pred_RF'])\n",
    "Loss_function_Before.append(Loss_Test_RF)\n",
    "print(Loss_Test_RF)"
   ]
  },
  {
   "cell_type": "markdown",
   "id": "df63d4fb",
   "metadata": {},
   "source": [
    "## XG Boost"
   ]
  },
  {
   "cell_type": "code",
   "execution_count": 12,
   "id": "48b5e4e3",
   "metadata": {},
   "outputs": [],
   "source": [
    "import xgboost\n",
    "from xgboost import XGBRegressor"
   ]
  },
  {
   "cell_type": "code",
   "execution_count": 13,
   "id": "c862d570",
   "metadata": {},
   "outputs": [
    {
     "data": {
      "text/plain": [
       "XGBRegressor(base_score=0.5, booster='gbtree', colsample_bylevel=1,\n",
       "             colsample_bynode=1, colsample_bytree=1, enable_categorical=False,\n",
       "             gamma=0, gpu_id=-1, importance_type=None,\n",
       "             interaction_constraints='', learning_rate=0.300000012,\n",
       "             max_delta_step=0, max_depth=6, min_child_weight=1, missing=nan,\n",
       "             monotone_constraints='()', n_estimators=100, n_jobs=16,\n",
       "             num_parallel_tree=1, predictor='auto', random_state=0, reg_alpha=0,\n",
       "             reg_lambda=1, scale_pos_weight=1, subsample=1, tree_method='exact',\n",
       "             validate_parameters=1, verbosity=None)"
      ]
     },
     "execution_count": 13,
     "metadata": {},
     "output_type": "execute_result"
    }
   ],
   "source": [
    "XG_modelb = XGBRegressor()\n",
    "XG_modelb.fit(X_trainb, y_trainb)"
   ]
  },
  {
   "cell_type": "markdown",
   "id": "02cdf891",
   "metadata": {},
   "source": [
    "#### On Test"
   ]
  },
  {
   "cell_type": "code",
   "execution_count": 14,
   "id": "e4011f01",
   "metadata": {},
   "outputs": [
    {
     "name": "stdout",
     "output_type": "stream",
     "text": [
      "0.7643013333333334\n"
     ]
    }
   ],
   "source": [
    "XG_y_test_predb =  XG_modelb.predict(X_testb)\n",
    "df_test_pred_B['Pred_XG'] = XG_y_test_predb.round(0)\n",
    "Loss_Test_XG = calculate_loss(df_test_pred_B['Delivery_Days'],df_test_pred_B['Pred_XG'])\n",
    "Loss_function_Before.append(Loss_Test_XG)\n",
    "print(Loss_Test_XG)"
   ]
  },
  {
   "cell_type": "markdown",
   "id": "7e89e240",
   "metadata": {},
   "source": [
    "## Columns after features extraction"
   ]
  },
  {
   "cell_type": "markdown",
   "id": "f793619c",
   "metadata": {},
   "source": [
    "['b2c_c2c', 'declared_handling_days', 'shipment_method_id', 'shipping_fee','carrier_min_estimate','carrier_max_estimate', 'category_id', 'item_price','weight', 'Delivery_Days', 'Actual_Handling_Days_For_Seller', 'Declared_Handling_Days_Offset', 'PS__LARGE_PACKAGE', 'PS__LETTER','PS__PACKAGE_THICK_ENVELOPE','Distances_ZIP']"
   ]
  },
  {
   "cell_type": "code",
   "execution_count": 15,
   "id": "17a1f306",
   "metadata": {},
   "outputs": [],
   "source": [
    "df_train_after = df_train[['b2c_c2c', 'declared_handling_days', 'shipment_method_id', 'shipping_fee','carrier_min_estimate','carrier_max_estimate', 'category_id', 'item_price','weight','Actual_Handling_Days_For_Seller', 'Declared_Handling_Days_Offset', 'PS__LARGE_PACKAGE', 'PS__LETTER','PS__PACKAGE_THICK_ENVELOPE','Distances_ZIP','Delivery_Days']]\n",
    "df_test_after = df_test[['b2c_c2c', 'declared_handling_days', 'shipment_method_id', 'shipping_fee','carrier_min_estimate','carrier_max_estimate', 'category_id', 'item_price','weight','Actual_Handling_Days_For_Seller', 'Declared_Handling_Days_Offset', 'PS__LARGE_PACKAGE', 'PS__LETTER','PS__PACKAGE_THICK_ENVELOPE','Distances_ZIP','Delivery_Days']]"
   ]
  },
  {
   "cell_type": "code",
   "execution_count": 29,
   "id": "da2a0b74",
   "metadata": {},
   "outputs": [
    {
     "data": {
      "text/html": [
       "<div>\n",
       "<style scoped>\n",
       "    .dataframe tbody tr th:only-of-type {\n",
       "        vertical-align: middle;\n",
       "    }\n",
       "\n",
       "    .dataframe tbody tr th {\n",
       "        vertical-align: top;\n",
       "    }\n",
       "\n",
       "    .dataframe thead th {\n",
       "        text-align: right;\n",
       "    }\n",
       "</style>\n",
       "<table border=\"1\" class=\"dataframe\">\n",
       "  <thead>\n",
       "    <tr style=\"text-align: right;\">\n",
       "      <th></th>\n",
       "      <th>b2c_c2c</th>\n",
       "      <th>declared_handling_days</th>\n",
       "      <th>shipment_method_id</th>\n",
       "      <th>shipping_fee</th>\n",
       "      <th>carrier_min_estimate</th>\n",
       "      <th>carrier_max_estimate</th>\n",
       "      <th>category_id</th>\n",
       "      <th>item_price</th>\n",
       "      <th>weight</th>\n",
       "      <th>Actual_Handling_Days_For_Seller</th>\n",
       "      <th>Declared_Handling_Days_Offset</th>\n",
       "      <th>PS__LARGE_PACKAGE</th>\n",
       "      <th>PS__LETTER</th>\n",
       "      <th>PS__PACKAGE_THICK_ENVELOPE</th>\n",
       "      <th>Distances_ZIP</th>\n",
       "      <th>Delivery_Days</th>\n",
       "    </tr>\n",
       "  </thead>\n",
       "  <tbody>\n",
       "    <tr>\n",
       "      <th>b2c_c2c</th>\n",
       "      <td>1.000000</td>\n",
       "      <td>0.261000</td>\n",
       "      <td>0.086494</td>\n",
       "      <td>0.305757</td>\n",
       "      <td>-0.148949</td>\n",
       "      <td>0.094048</td>\n",
       "      <td>0.023495</td>\n",
       "      <td>-0.000009</td>\n",
       "      <td>0.022900</td>\n",
       "      <td>0.042953</td>\n",
       "      <td>-0.210806</td>\n",
       "      <td>-0.010026</td>\n",
       "      <td>-0.093142</td>\n",
       "      <td>0.085828</td>\n",
       "      <td>-0.037017</td>\n",
       "      <td>0.066316</td>\n",
       "    </tr>\n",
       "    <tr>\n",
       "      <th>declared_handling_days</th>\n",
       "      <td>0.261000</td>\n",
       "      <td>1.000000</td>\n",
       "      <td>0.059387</td>\n",
       "      <td>0.190221</td>\n",
       "      <td>-0.099370</td>\n",
       "      <td>0.071896</td>\n",
       "      <td>0.018408</td>\n",
       "      <td>0.036050</td>\n",
       "      <td>0.021082</td>\n",
       "      <td>0.310770</td>\n",
       "      <td>-0.316225</td>\n",
       "      <td>-0.000662</td>\n",
       "      <td>-0.046448</td>\n",
       "      <td>0.042774</td>\n",
       "      <td>-0.022255</td>\n",
       "      <td>0.292046</td>\n",
       "    </tr>\n",
       "    <tr>\n",
       "      <th>shipment_method_id</th>\n",
       "      <td>0.086494</td>\n",
       "      <td>0.059387</td>\n",
       "      <td>1.000000</td>\n",
       "      <td>0.197922</td>\n",
       "      <td>-0.748453</td>\n",
       "      <td>0.554564</td>\n",
       "      <td>0.112819</td>\n",
       "      <td>0.124132</td>\n",
       "      <td>0.154287</td>\n",
       "      <td>0.009830</td>\n",
       "      <td>-0.048430</td>\n",
       "      <td>0.033430</td>\n",
       "      <td>-0.031331</td>\n",
       "      <td>0.012629</td>\n",
       "      <td>-0.013881</td>\n",
       "      <td>0.055847</td>\n",
       "    </tr>\n",
       "    <tr>\n",
       "      <th>shipping_fee</th>\n",
       "      <td>0.305757</td>\n",
       "      <td>0.190221</td>\n",
       "      <td>0.197922</td>\n",
       "      <td>1.000000</td>\n",
       "      <td>-0.394836</td>\n",
       "      <td>0.094251</td>\n",
       "      <td>-0.108398</td>\n",
       "      <td>0.119846</td>\n",
       "      <td>0.116228</td>\n",
       "      <td>0.019925</td>\n",
       "      <td>-0.167804</td>\n",
       "      <td>0.032238</td>\n",
       "      <td>-0.087989</td>\n",
       "      <td>0.076104</td>\n",
       "      <td>-0.061539</td>\n",
       "      <td>0.005335</td>\n",
       "    </tr>\n",
       "    <tr>\n",
       "      <th>carrier_min_estimate</th>\n",
       "      <td>-0.148949</td>\n",
       "      <td>-0.099370</td>\n",
       "      <td>-0.748453</td>\n",
       "      <td>-0.394836</td>\n",
       "      <td>1.000000</td>\n",
       "      <td>-0.484116</td>\n",
       "      <td>-0.054552</td>\n",
       "      <td>-0.269960</td>\n",
       "      <td>-0.229332</td>\n",
       "      <td>-0.016278</td>\n",
       "      <td>0.080154</td>\n",
       "      <td>-0.058751</td>\n",
       "      <td>0.049650</td>\n",
       "      <td>-0.030405</td>\n",
       "      <td>0.057340</td>\n",
       "      <td>-0.034737</td>\n",
       "    </tr>\n",
       "    <tr>\n",
       "      <th>carrier_max_estimate</th>\n",
       "      <td>0.094048</td>\n",
       "      <td>0.071896</td>\n",
       "      <td>0.554564</td>\n",
       "      <td>0.094251</td>\n",
       "      <td>-0.484116</td>\n",
       "      <td>1.000000</td>\n",
       "      <td>0.200961</td>\n",
       "      <td>0.015407</td>\n",
       "      <td>0.105676</td>\n",
       "      <td>0.018524</td>\n",
       "      <td>-0.045737</td>\n",
       "      <td>0.045300</td>\n",
       "      <td>-0.018310</td>\n",
       "      <td>-0.001192</td>\n",
       "      <td>-0.021704</td>\n",
       "      <td>0.119763</td>\n",
       "    </tr>\n",
       "    <tr>\n",
       "      <th>category_id</th>\n",
       "      <td>0.023495</td>\n",
       "      <td>0.018408</td>\n",
       "      <td>0.112819</td>\n",
       "      <td>-0.108398</td>\n",
       "      <td>-0.054552</td>\n",
       "      <td>0.200961</td>\n",
       "      <td>1.000000</td>\n",
       "      <td>-0.043236</td>\n",
       "      <td>0.013850</td>\n",
       "      <td>0.011546</td>\n",
       "      <td>-0.001076</td>\n",
       "      <td>0.005679</td>\n",
       "      <td>0.007418</td>\n",
       "      <td>-0.008498</td>\n",
       "      <td>-0.008398</td>\n",
       "      <td>0.071861</td>\n",
       "    </tr>\n",
       "    <tr>\n",
       "      <th>item_price</th>\n",
       "      <td>-0.000009</td>\n",
       "      <td>0.036050</td>\n",
       "      <td>0.124132</td>\n",
       "      <td>0.119846</td>\n",
       "      <td>-0.269960</td>\n",
       "      <td>0.015407</td>\n",
       "      <td>-0.043236</td>\n",
       "      <td>1.000000</td>\n",
       "      <td>0.136374</td>\n",
       "      <td>0.011245</td>\n",
       "      <td>-0.027357</td>\n",
       "      <td>0.038184</td>\n",
       "      <td>-0.020646</td>\n",
       "      <td>0.012035</td>\n",
       "      <td>-0.010368</td>\n",
       "      <td>-0.013974</td>\n",
       "    </tr>\n",
       "    <tr>\n",
       "      <th>weight</th>\n",
       "      <td>0.022900</td>\n",
       "      <td>0.021082</td>\n",
       "      <td>0.154287</td>\n",
       "      <td>0.116228</td>\n",
       "      <td>-0.229332</td>\n",
       "      <td>0.105676</td>\n",
       "      <td>0.013850</td>\n",
       "      <td>0.136374</td>\n",
       "      <td>1.000000</td>\n",
       "      <td>0.004391</td>\n",
       "      <td>-0.016505</td>\n",
       "      <td>0.045495</td>\n",
       "      <td>0.002900</td>\n",
       "      <td>-0.013034</td>\n",
       "      <td>-0.029758</td>\n",
       "      <td>0.004757</td>\n",
       "    </tr>\n",
       "    <tr>\n",
       "      <th>Actual_Handling_Days_For_Seller</th>\n",
       "      <td>0.042953</td>\n",
       "      <td>0.310770</td>\n",
       "      <td>0.009830</td>\n",
       "      <td>0.019925</td>\n",
       "      <td>-0.016278</td>\n",
       "      <td>0.018524</td>\n",
       "      <td>0.011546</td>\n",
       "      <td>0.011245</td>\n",
       "      <td>0.004391</td>\n",
       "      <td>1.000000</td>\n",
       "      <td>0.381074</td>\n",
       "      <td>-0.001057</td>\n",
       "      <td>-0.003496</td>\n",
       "      <td>0.003079</td>\n",
       "      <td>0.004172</td>\n",
       "      <td>0.862225</td>\n",
       "    </tr>\n",
       "    <tr>\n",
       "      <th>Declared_Handling_Days_Offset</th>\n",
       "      <td>-0.210806</td>\n",
       "      <td>-0.316225</td>\n",
       "      <td>-0.048430</td>\n",
       "      <td>-0.167804</td>\n",
       "      <td>0.080154</td>\n",
       "      <td>-0.045737</td>\n",
       "      <td>-0.001076</td>\n",
       "      <td>-0.027357</td>\n",
       "      <td>-0.016505</td>\n",
       "      <td>0.381074</td>\n",
       "      <td>1.000000</td>\n",
       "      <td>0.000511</td>\n",
       "      <td>0.048691</td>\n",
       "      <td>-0.044716</td>\n",
       "      <td>0.035338</td>\n",
       "      <td>0.271233</td>\n",
       "    </tr>\n",
       "    <tr>\n",
       "      <th>PS__LARGE_PACKAGE</th>\n",
       "      <td>-0.010026</td>\n",
       "      <td>-0.000662</td>\n",
       "      <td>0.033430</td>\n",
       "      <td>0.032238</td>\n",
       "      <td>-0.058751</td>\n",
       "      <td>0.045300</td>\n",
       "      <td>0.005679</td>\n",
       "      <td>0.038184</td>\n",
       "      <td>0.045495</td>\n",
       "      <td>-0.001057</td>\n",
       "      <td>0.000511</td>\n",
       "      <td>1.000000</td>\n",
       "      <td>-0.017565</td>\n",
       "      <td>-0.403479</td>\n",
       "      <td>-0.010587</td>\n",
       "      <td>-0.001690</td>\n",
       "    </tr>\n",
       "    <tr>\n",
       "      <th>PS__LETTER</th>\n",
       "      <td>-0.093142</td>\n",
       "      <td>-0.046448</td>\n",
       "      <td>-0.031331</td>\n",
       "      <td>-0.087989</td>\n",
       "      <td>0.049650</td>\n",
       "      <td>-0.018310</td>\n",
       "      <td>0.007418</td>\n",
       "      <td>-0.020646</td>\n",
       "      <td>0.002900</td>\n",
       "      <td>-0.003496</td>\n",
       "      <td>0.048691</td>\n",
       "      <td>-0.017565</td>\n",
       "      <td>1.000000</td>\n",
       "      <td>-0.714407</td>\n",
       "      <td>0.018157</td>\n",
       "      <td>-0.006835</td>\n",
       "    </tr>\n",
       "    <tr>\n",
       "      <th>PS__PACKAGE_THICK_ENVELOPE</th>\n",
       "      <td>0.085828</td>\n",
       "      <td>0.042774</td>\n",
       "      <td>0.012629</td>\n",
       "      <td>0.076104</td>\n",
       "      <td>-0.030405</td>\n",
       "      <td>-0.001192</td>\n",
       "      <td>-0.008498</td>\n",
       "      <td>0.012035</td>\n",
       "      <td>-0.013034</td>\n",
       "      <td>0.003079</td>\n",
       "      <td>-0.044716</td>\n",
       "      <td>-0.403479</td>\n",
       "      <td>-0.714407</td>\n",
       "      <td>1.000000</td>\n",
       "      <td>-0.012032</td>\n",
       "      <td>0.006855</td>\n",
       "    </tr>\n",
       "    <tr>\n",
       "      <th>Distances_ZIP</th>\n",
       "      <td>-0.037017</td>\n",
       "      <td>-0.022255</td>\n",
       "      <td>-0.013881</td>\n",
       "      <td>-0.061539</td>\n",
       "      <td>0.057340</td>\n",
       "      <td>-0.021704</td>\n",
       "      <td>-0.008398</td>\n",
       "      <td>-0.010368</td>\n",
       "      <td>-0.029758</td>\n",
       "      <td>0.004172</td>\n",
       "      <td>0.035338</td>\n",
       "      <td>-0.010587</td>\n",
       "      <td>0.018157</td>\n",
       "      <td>-0.012032</td>\n",
       "      <td>1.000000</td>\n",
       "      <td>0.069195</td>\n",
       "    </tr>\n",
       "    <tr>\n",
       "      <th>Delivery_Days</th>\n",
       "      <td>0.066316</td>\n",
       "      <td>0.292046</td>\n",
       "      <td>0.055847</td>\n",
       "      <td>0.005335</td>\n",
       "      <td>-0.034737</td>\n",
       "      <td>0.119763</td>\n",
       "      <td>0.071861</td>\n",
       "      <td>-0.013974</td>\n",
       "      <td>0.004757</td>\n",
       "      <td>0.862225</td>\n",
       "      <td>0.271233</td>\n",
       "      <td>-0.001690</td>\n",
       "      <td>-0.006835</td>\n",
       "      <td>0.006855</td>\n",
       "      <td>0.069195</td>\n",
       "      <td>1.000000</td>\n",
       "    </tr>\n",
       "  </tbody>\n",
       "</table>\n",
       "</div>"
      ],
      "text/plain": [
       "                                  b2c_c2c  declared_handling_days  \\\n",
       "b2c_c2c                          1.000000                0.261000   \n",
       "declared_handling_days           0.261000                1.000000   \n",
       "shipment_method_id               0.086494                0.059387   \n",
       "shipping_fee                     0.305757                0.190221   \n",
       "carrier_min_estimate            -0.148949               -0.099370   \n",
       "carrier_max_estimate             0.094048                0.071896   \n",
       "category_id                      0.023495                0.018408   \n",
       "item_price                      -0.000009                0.036050   \n",
       "weight                           0.022900                0.021082   \n",
       "Actual_Handling_Days_For_Seller  0.042953                0.310770   \n",
       "Declared_Handling_Days_Offset   -0.210806               -0.316225   \n",
       "PS__LARGE_PACKAGE               -0.010026               -0.000662   \n",
       "PS__LETTER                      -0.093142               -0.046448   \n",
       "PS__PACKAGE_THICK_ENVELOPE       0.085828                0.042774   \n",
       "Distances_ZIP                   -0.037017               -0.022255   \n",
       "Delivery_Days                    0.066316                0.292046   \n",
       "\n",
       "                                 shipment_method_id  shipping_fee  \\\n",
       "b2c_c2c                                    0.086494      0.305757   \n",
       "declared_handling_days                     0.059387      0.190221   \n",
       "shipment_method_id                         1.000000      0.197922   \n",
       "shipping_fee                               0.197922      1.000000   \n",
       "carrier_min_estimate                      -0.748453     -0.394836   \n",
       "carrier_max_estimate                       0.554564      0.094251   \n",
       "category_id                                0.112819     -0.108398   \n",
       "item_price                                 0.124132      0.119846   \n",
       "weight                                     0.154287      0.116228   \n",
       "Actual_Handling_Days_For_Seller            0.009830      0.019925   \n",
       "Declared_Handling_Days_Offset             -0.048430     -0.167804   \n",
       "PS__LARGE_PACKAGE                          0.033430      0.032238   \n",
       "PS__LETTER                                -0.031331     -0.087989   \n",
       "PS__PACKAGE_THICK_ENVELOPE                 0.012629      0.076104   \n",
       "Distances_ZIP                             -0.013881     -0.061539   \n",
       "Delivery_Days                              0.055847      0.005335   \n",
       "\n",
       "                                 carrier_min_estimate  carrier_max_estimate  \\\n",
       "b2c_c2c                                     -0.148949              0.094048   \n",
       "declared_handling_days                      -0.099370              0.071896   \n",
       "shipment_method_id                          -0.748453              0.554564   \n",
       "shipping_fee                                -0.394836              0.094251   \n",
       "carrier_min_estimate                         1.000000             -0.484116   \n",
       "carrier_max_estimate                        -0.484116              1.000000   \n",
       "category_id                                 -0.054552              0.200961   \n",
       "item_price                                  -0.269960              0.015407   \n",
       "weight                                      -0.229332              0.105676   \n",
       "Actual_Handling_Days_For_Seller             -0.016278              0.018524   \n",
       "Declared_Handling_Days_Offset                0.080154             -0.045737   \n",
       "PS__LARGE_PACKAGE                           -0.058751              0.045300   \n",
       "PS__LETTER                                   0.049650             -0.018310   \n",
       "PS__PACKAGE_THICK_ENVELOPE                  -0.030405             -0.001192   \n",
       "Distances_ZIP                                0.057340             -0.021704   \n",
       "Delivery_Days                               -0.034737              0.119763   \n",
       "\n",
       "                                 category_id  item_price    weight  \\\n",
       "b2c_c2c                             0.023495   -0.000009  0.022900   \n",
       "declared_handling_days              0.018408    0.036050  0.021082   \n",
       "shipment_method_id                  0.112819    0.124132  0.154287   \n",
       "shipping_fee                       -0.108398    0.119846  0.116228   \n",
       "carrier_min_estimate               -0.054552   -0.269960 -0.229332   \n",
       "carrier_max_estimate                0.200961    0.015407  0.105676   \n",
       "category_id                         1.000000   -0.043236  0.013850   \n",
       "item_price                         -0.043236    1.000000  0.136374   \n",
       "weight                              0.013850    0.136374  1.000000   \n",
       "Actual_Handling_Days_For_Seller     0.011546    0.011245  0.004391   \n",
       "Declared_Handling_Days_Offset      -0.001076   -0.027357 -0.016505   \n",
       "PS__LARGE_PACKAGE                   0.005679    0.038184  0.045495   \n",
       "PS__LETTER                          0.007418   -0.020646  0.002900   \n",
       "PS__PACKAGE_THICK_ENVELOPE         -0.008498    0.012035 -0.013034   \n",
       "Distances_ZIP                      -0.008398   -0.010368 -0.029758   \n",
       "Delivery_Days                       0.071861   -0.013974  0.004757   \n",
       "\n",
       "                                 Actual_Handling_Days_For_Seller  \\\n",
       "b2c_c2c                                                 0.042953   \n",
       "declared_handling_days                                  0.310770   \n",
       "shipment_method_id                                      0.009830   \n",
       "shipping_fee                                            0.019925   \n",
       "carrier_min_estimate                                   -0.016278   \n",
       "carrier_max_estimate                                    0.018524   \n",
       "category_id                                             0.011546   \n",
       "item_price                                              0.011245   \n",
       "weight                                                  0.004391   \n",
       "Actual_Handling_Days_For_Seller                         1.000000   \n",
       "Declared_Handling_Days_Offset                           0.381074   \n",
       "PS__LARGE_PACKAGE                                      -0.001057   \n",
       "PS__LETTER                                             -0.003496   \n",
       "PS__PACKAGE_THICK_ENVELOPE                              0.003079   \n",
       "Distances_ZIP                                           0.004172   \n",
       "Delivery_Days                                           0.862225   \n",
       "\n",
       "                                 Declared_Handling_Days_Offset  \\\n",
       "b2c_c2c                                              -0.210806   \n",
       "declared_handling_days                               -0.316225   \n",
       "shipment_method_id                                   -0.048430   \n",
       "shipping_fee                                         -0.167804   \n",
       "carrier_min_estimate                                  0.080154   \n",
       "carrier_max_estimate                                 -0.045737   \n",
       "category_id                                          -0.001076   \n",
       "item_price                                           -0.027357   \n",
       "weight                                               -0.016505   \n",
       "Actual_Handling_Days_For_Seller                       0.381074   \n",
       "Declared_Handling_Days_Offset                         1.000000   \n",
       "PS__LARGE_PACKAGE                                     0.000511   \n",
       "PS__LETTER                                            0.048691   \n",
       "PS__PACKAGE_THICK_ENVELOPE                           -0.044716   \n",
       "Distances_ZIP                                         0.035338   \n",
       "Delivery_Days                                         0.271233   \n",
       "\n",
       "                                 PS__LARGE_PACKAGE  PS__LETTER  \\\n",
       "b2c_c2c                                  -0.010026   -0.093142   \n",
       "declared_handling_days                   -0.000662   -0.046448   \n",
       "shipment_method_id                        0.033430   -0.031331   \n",
       "shipping_fee                              0.032238   -0.087989   \n",
       "carrier_min_estimate                     -0.058751    0.049650   \n",
       "carrier_max_estimate                      0.045300   -0.018310   \n",
       "category_id                               0.005679    0.007418   \n",
       "item_price                                0.038184   -0.020646   \n",
       "weight                                    0.045495    0.002900   \n",
       "Actual_Handling_Days_For_Seller          -0.001057   -0.003496   \n",
       "Declared_Handling_Days_Offset             0.000511    0.048691   \n",
       "PS__LARGE_PACKAGE                         1.000000   -0.017565   \n",
       "PS__LETTER                               -0.017565    1.000000   \n",
       "PS__PACKAGE_THICK_ENVELOPE               -0.403479   -0.714407   \n",
       "Distances_ZIP                            -0.010587    0.018157   \n",
       "Delivery_Days                            -0.001690   -0.006835   \n",
       "\n",
       "                                 PS__PACKAGE_THICK_ENVELOPE  Distances_ZIP  \\\n",
       "b2c_c2c                                            0.085828      -0.037017   \n",
       "declared_handling_days                             0.042774      -0.022255   \n",
       "shipment_method_id                                 0.012629      -0.013881   \n",
       "shipping_fee                                       0.076104      -0.061539   \n",
       "carrier_min_estimate                              -0.030405       0.057340   \n",
       "carrier_max_estimate                              -0.001192      -0.021704   \n",
       "category_id                                       -0.008498      -0.008398   \n",
       "item_price                                         0.012035      -0.010368   \n",
       "weight                                            -0.013034      -0.029758   \n",
       "Actual_Handling_Days_For_Seller                    0.003079       0.004172   \n",
       "Declared_Handling_Days_Offset                     -0.044716       0.035338   \n",
       "PS__LARGE_PACKAGE                                 -0.403479      -0.010587   \n",
       "PS__LETTER                                        -0.714407       0.018157   \n",
       "PS__PACKAGE_THICK_ENVELOPE                         1.000000      -0.012032   \n",
       "Distances_ZIP                                     -0.012032       1.000000   \n",
       "Delivery_Days                                      0.006855       0.069195   \n",
       "\n",
       "                                 Delivery_Days  \n",
       "b2c_c2c                               0.066316  \n",
       "declared_handling_days                0.292046  \n",
       "shipment_method_id                    0.055847  \n",
       "shipping_fee                          0.005335  \n",
       "carrier_min_estimate                 -0.034737  \n",
       "carrier_max_estimate                  0.119763  \n",
       "category_id                           0.071861  \n",
       "item_price                           -0.013974  \n",
       "weight                                0.004757  \n",
       "Actual_Handling_Days_For_Seller       0.862225  \n",
       "Declared_Handling_Days_Offset         0.271233  \n",
       "PS__LARGE_PACKAGE                    -0.001690  \n",
       "PS__LETTER                           -0.006835  \n",
       "PS__PACKAGE_THICK_ENVELOPE            0.006855  \n",
       "Distances_ZIP                         0.069195  \n",
       "Delivery_Days                         1.000000  "
      ]
     },
     "execution_count": 29,
     "metadata": {},
     "output_type": "execute_result"
    }
   ],
   "source": [
    "df_train_after.corr()"
   ]
  },
  {
   "cell_type": "code",
   "execution_count": 30,
   "id": "fcf4a00c",
   "metadata": {},
   "outputs": [
    {
     "data": {
      "text/plain": [
       "<AxesSubplot:>"
      ]
     },
     "execution_count": 30,
     "metadata": {},
     "output_type": "execute_result"
    },
    {
     "data": {
      "image/png": "[encoded data removed]",
      "text/plain": [
       "<Figure size 432x288 with 2 Axes>"
      ]
     },
     "metadata": {
      "needs_background": "light"
     },
     "output_type": "display_data"
    }
   ],
   "source": [
    "sns.heatmap(df_train_after.corr())"
   ]
  },
  {
   "cell_type": "code",
   "execution_count": 16,
   "id": "358fe709",
   "metadata": {},
   "outputs": [],
   "source": [
    "X_traina = df_train_after.loc[:,df_train_after.columns != 'Delivery_Days']\n",
    "y_traina = df_train_after['Delivery_Days']\n",
    "X_testa = df_test_after.loc[:,df_test_after.columns != 'Delivery_Days']\n",
    "y_testa = df_test_after['Delivery_Days']"
   ]
  },
  {
   "cell_type": "markdown",
   "id": "8537a4d6",
   "metadata": {},
   "source": [
    "## Multi-Linear Regression"
   ]
  },
  {
   "cell_type": "code",
   "execution_count": 17,
   "id": "368182f6",
   "metadata": {},
   "outputs": [
    {
     "data": {
      "text/plain": [
       "LinearRegression()"
      ]
     },
     "execution_count": 17,
     "metadata": {},
     "output_type": "execute_result"
    }
   ],
   "source": [
    "from sklearn.linear_model import LinearRegression\n",
    "# creating an object of LinearRegression class\n",
    "LRA = LinearRegression()\n",
    "# fitting the training data\n",
    "LRA.fit(X_traina,y_traina)"
   ]
  },
  {
   "cell_type": "markdown",
   "id": "879a583c",
   "metadata": {},
   "source": [
    "#### On Test Set"
   ]
  },
  {
   "cell_type": "code",
   "execution_count": 18,
   "id": "a000d9ed",
   "metadata": {},
   "outputs": [
    {
     "name": "stdout",
     "output_type": "stream",
     "text": [
      "0.48652799999999996\n"
     ]
    }
   ],
   "source": [
    "y_test_preda =  LRA.predict(X_testa)\n",
    "df_test_pred_A = pd.DataFrame(y_testa)\n",
    "df_test_pred_A['Pred_LRA'] =  y_test_preda.round(0)\n",
    "Loss_Test_LRA = calculate_loss(df_test_pred_A['Delivery_Days'],df_test_pred_A['Pred_LRA'])\n",
    "Loss_function_After.append(Loss_Test_LRA)\n",
    "print(Loss_Test_LRA)"
   ]
  },
  {
   "cell_type": "markdown",
   "id": "b39014da",
   "metadata": {},
   "source": [
    "## RandomForest"
   ]
  },
  {
   "cell_type": "code",
   "execution_count": 19,
   "id": "88120dcc",
   "metadata": {},
   "outputs": [
    {
     "data": {
      "text/plain": [
       "RandomForestClassifier(max_depth=2, random_state=0)"
      ]
     },
     "execution_count": 19,
     "metadata": {},
     "output_type": "execute_result"
    }
   ],
   "source": [
    "from sklearn.ensemble import RandomForestClassifier\n",
    "clfa = RandomForestClassifier(max_depth=2, random_state=0)\n",
    "clfa.fit(X_traina, y_traina)"
   ]
  },
  {
   "cell_type": "markdown",
   "id": "49214139",
   "metadata": {},
   "source": [
    "### Calculation of Loss Function for different depths"
   ]
  },
  {
   "cell_type": "code",
   "execution_count": null,
   "id": "cd441c50",
   "metadata": {},
   "outputs": [],
   "source": [
    "## ON TEST\n",
    "md_value = list(range(2,21,2))\n",
    "Loss_Test_RFA = []\n",
    "for i in md_value:\n",
    "    clfa = RandomForestClassifier(max_depth=i, random_state=0)\n",
    "    clfa.fit(X_traina, y_traina)\n",
    "    RF_y_test_preda =  clfa.predict(X_testa)\n",
    "    df_test_pred_A['Pred_RF'] = RF_y_test_preda.round(0)\n",
    "    Loss_Test_RFA.append(calculate_loss(df_test_pred_A['Delivery_Days'],df_test_pred_A['Pred_RF']))"
   ]
  },
  {
   "cell_type": "code",
   "execution_count": 68,
   "id": "4ee57dd2",
   "metadata": {},
   "outputs": [
    {
     "data": {
      "text/plain": [
       "Text(0.5, 1.0, 'Loss Function vs Max_Depth')"
      ]
     },
     "execution_count": 68,
     "metadata": {},
     "output_type": "execute_result"
    },
    {
     "data": {
      "image/png": "[encoded data removed]",
      "text/plain": [
       "<Figure size 432x288 with 1 Axes>"
      ]
     },
     "metadata": {
      "needs_background": "light"
     },
     "output_type": "display_data"
    }
   ],
   "source": [
    "md_value = list(range(2,21,2))\n",
    "plt.xticks(md_value)\n",
    "plt.plot(md_value,Loss_Test_RFA)\n",
    "plt.title(\"Loss Function vs Max_Depth\")"
   ]
  },
  {
   "cell_type": "markdown",
   "id": "929f4bc4",
   "metadata": {},
   "source": [
    "#### On Test Set"
   ]
  },
  {
   "cell_type": "code",
   "execution_count": 20,
   "id": "8818101f",
   "metadata": {},
   "outputs": [
    {
     "name": "stdout",
     "output_type": "stream",
     "text": [
      "0.605806\n"
     ]
    }
   ],
   "source": [
    "RF_y_test_preda =  clfa.predict(X_testa)\n",
    "df_test_pred_A['Pred_RF'] = RF_y_test_preda.round(0)\n",
    "Loss_Test_RF_A = calculate_loss(df_test_pred_A['Delivery_Days'],df_test_pred_A['Pred_RF'])\n",
    "Loss_function_After.append(Loss_Test_RF_A)\n",
    "print(Loss_Test_RF_A)"
   ]
  },
  {
   "cell_type": "markdown",
   "id": "675cb58f",
   "metadata": {},
   "source": [
    "## XG Boost"
   ]
  },
  {
   "cell_type": "code",
   "execution_count": 21,
   "id": "a7358b9b",
   "metadata": {},
   "outputs": [],
   "source": [
    "import xgboost\n",
    "from xgboost import XGBRegressor"
   ]
  },
  {
   "cell_type": "code",
   "execution_count": 22,
   "id": "0965bd28",
   "metadata": {},
   "outputs": [
    {
     "data": {
      "text/plain": [
       "XGBRegressor(base_score=0.5, booster='gbtree', colsample_bylevel=1,\n",
       "             colsample_bynode=1, colsample_bytree=1, enable_categorical=False,\n",
       "             gamma=0, gpu_id=-1, importance_type=None,\n",
       "             interaction_constraints='', learning_rate=0.300000012,\n",
       "             max_delta_step=0, max_depth=6, min_child_weight=1, missing=nan,\n",
       "             monotone_constraints='()', n_estimators=100, n_jobs=16,\n",
       "             num_parallel_tree=1, predictor='auto', random_state=0, reg_alpha=0,\n",
       "             reg_lambda=1, scale_pos_weight=1, subsample=1, tree_method='exact',\n",
       "             validate_parameters=1, verbosity=None)"
      ]
     },
     "execution_count": 22,
     "metadata": {},
     "output_type": "execute_result"
    }
   ],
   "source": [
    "XGA_model = XGBRegressor()\n",
    "XGA_model.fit(X_traina,y_traina)"
   ]
  },
  {
   "cell_type": "markdown",
   "id": "d9bc50d1",
   "metadata": {},
   "source": [
    "### Calculation of Loss Function for different n_estimators"
   ]
  },
  {
   "cell_type": "code",
   "execution_count": 75,
   "id": "e00ad1b2",
   "metadata": {},
   "outputs": [],
   "source": [
    "## ON TEST - \n",
    "ne = range(110,201,10)\n",
    "for i in ne:\n",
    "    XGA_model = XGBRegressor(n_estimators=i)\n",
    "    XGA_model.fit(X_traina,y_traina)\n",
    "    XG_y_test_preda =  XGA_model.predict(X_testa)\n",
    "    df_test_pred_A['Pred_XG'] = XG_y_test_preda.round(0)\n",
    "    Loss_Test_XGA_ne.append(calculate_loss(df_test_pred_A['Delivery_Days'],df_test_pred_A['Pred_XG']))"
   ]
  },
  {
   "cell_type": "code",
   "execution_count": 76,
   "id": "c94d23d0",
   "metadata": {},
   "outputs": [
    {
     "data": {
      "text/plain": [
       "Text(0.5, 1.0, 'Loss Function vs n_estimators')"
      ]
     },
     "execution_count": 76,
     "metadata": {},
     "output_type": "execute_result"
    },
    {
     "data": {
      "image/png": "[encoded data removed]",
      "text/plain": [
       "<Figure size 432x288 with 1 Axes>"
      ]
     },
     "metadata": {
      "needs_background": "light"
     },
     "output_type": "display_data"
    }
   ],
   "source": [
    "md_value = list(range(10,201,10))\n",
    "plt.xticks(md_value)\n",
    "plt.plot(md_value,Loss_Test_XGA_ne)\n",
    "plt.title(\"Loss Function vs n_estimators\")\n",
    "plt.figure.subplot_adjust(bottom=0.2)"
   ]
  },
  {
   "cell_type": "markdown",
   "id": "ad10948d",
   "metadata": {},
   "source": [
    "### Calculation of Loss Function for different depth"
   ]
  },
  {
   "cell_type": "code",
   "execution_count": 29,
   "id": "2184c269",
   "metadata": {},
   "outputs": [
    {
     "name": "stdout",
     "output_type": "stream",
     "text": [
      "12\n",
      "14\n",
      "16\n",
      "18\n",
      "20\n"
     ]
    }
   ],
   "source": [
    "mdx = list(range(12,21,2))\n",
    "for i in mdx:\n",
    "    XGA_model = XGBRegressor(max_depth=i)\n",
    "    XGA_model.fit(X_traina,y_traina)\n",
    "    XG_y_test_preda =  XGA_model.predict(X_testa)\n",
    "    df_test_pred_A['Pred_XG'] = XG_y_test_preda.round(0)\n",
    "    Loss_Test_XGA_md.append(calculate_loss(df_test_pred_A['Delivery_Days'],df_test_pred_A['Pred_XG']))\n",
    "    print(i)"
   ]
  },
  {
   "cell_type": "code",
   "execution_count": 32,
   "id": "48cc4061",
   "metadata": {},
   "outputs": [
    {
     "data": {
      "text/plain": [
       "Text(0.5, 1.0, 'Loss Function vs Max_Depth')"
      ]
     },
     "execution_count": 32,
     "metadata": {},
     "output_type": "execute_result"
    },
    {
     "data": {
      "image/png": "[encoded data removed]",
      "text/plain": [
       "<Figure size 432x288 with 1 Axes>"
      ]
     },
     "metadata": {
      "needs_background": "light"
     },
     "output_type": "display_data"
    }
   ],
   "source": [
    "mdx = list(range(2,21,2))\n",
    "plt.xticks(mdx)\n",
    "plt.plot(mdx,Loss_Test_XGA_md)\n",
    "plt.title(\"Loss Function vs Max_Depth\")"
   ]
  },
  {
   "cell_type": "markdown",
   "id": "773d8ff3",
   "metadata": {},
   "source": [
    "### Calculation of Loss Function for different depth and n_estimators"
   ]
  },
  {
   "cell_type": "code",
   "execution_count": 53,
   "id": "8b431592",
   "metadata": {},
   "outputs": [
    {
     "data": {
      "text/html": [
       "<div>\n",
       "<style scoped>\n",
       "    .dataframe tbody tr th:only-of-type {\n",
       "        vertical-align: middle;\n",
       "    }\n",
       "\n",
       "    .dataframe tbody tr th {\n",
       "        vertical-align: top;\n",
       "    }\n",
       "\n",
       "    .dataframe thead th {\n",
       "        text-align: right;\n",
       "    }\n",
       "</style>\n",
       "<table border=\"1\" class=\"dataframe\">\n",
       "  <thead>\n",
       "    <tr style=\"text-align: right;\">\n",
       "      <th></th>\n",
       "      <th>0</th>\n",
       "      <th>1</th>\n",
       "      <th>2</th>\n",
       "    </tr>\n",
       "  </thead>\n",
       "  <tbody>\n",
       "    <tr>\n",
       "      <th>0</th>\n",
       "      <td>0.458609</td>\n",
       "      <td>0.440963</td>\n",
       "      <td>0.426904</td>\n",
       "    </tr>\n",
       "    <tr>\n",
       "      <th>1</th>\n",
       "      <td>0.447058</td>\n",
       "      <td>0.439243</td>\n",
       "      <td>0.439705</td>\n",
       "    </tr>\n",
       "    <tr>\n",
       "      <th>2</th>\n",
       "      <td>0.442371</td>\n",
       "      <td>0.440737</td>\n",
       "      <td>0.440659</td>\n",
       "    </tr>\n",
       "    <tr>\n",
       "      <th>3</th>\n",
       "      <td>0.440812</td>\n",
       "      <td>0.440926</td>\n",
       "      <td>0.440853</td>\n",
       "    </tr>\n",
       "    <tr>\n",
       "      <th>4</th>\n",
       "      <td>0.440429</td>\n",
       "      <td>0.441133</td>\n",
       "      <td>0.441620</td>\n",
       "    </tr>\n",
       "  </tbody>\n",
       "</table>\n",
       "</div>"
      ],
      "text/plain": [
       "          0         1         2\n",
       "0  0.458609  0.440963  0.426904\n",
       "1  0.447058  0.439243  0.439705\n",
       "2  0.442371  0.440737  0.440659\n",
       "3  0.440812  0.440926  0.440853\n",
       "4  0.440429  0.441133  0.441620"
      ]
     },
     "execution_count": 53,
     "metadata": {},
     "output_type": "execute_result"
    }
   ],
   "source": [
    "temp = pd.DataFrame(Loss_Test)\n",
    "temp"
   ]
  },
  {
   "cell_type": "code",
   "execution_count": 78,
   "id": "702af289",
   "metadata": {},
   "outputs": [
    {
     "name": "stderr",
     "output_type": "stream",
     "text": [
      "No handles with labels found to put in legend.\n"
     ]
    },
    {
     "data": {
      "text/plain": [
       "<matplotlib.legend.Legend at 0x15438be6070>"
      ]
     },
     "execution_count": 78,
     "metadata": {},
     "output_type": "execute_result"
    },
    {
     "data": {
      "image/png": "[encoded data removed]",
      "text/plain": [
       "<Figure size 432x288 with 1 Axes>"
      ]
     },
     "metadata": {
      "needs_background": "light"
     },
     "output_type": "display_data"
    }
   ],
   "source": [
    "plt.title(\"Loss Value for Different Parameters\")\n",
    "plt.xlabel(\"Max Depth\")\n",
    "plt.ylabel(\"Loss Value\")\n",
    "plt.legend()\n",
    "for i in range(0,5):\n",
    "    plt.plot(md,temp.loc[i],'.-')\n",
    "plt.legend([\"n_est=\"+str(i*10) for i in range(0,5)])    "
   ]
  },
  {
   "cell_type": "markdown",
   "id": "6ddf8b7f",
   "metadata": {},
   "source": [
    "#### On Test"
   ]
  },
  {
   "cell_type": "code",
   "execution_count": 23,
   "id": "0c7a9ebd",
   "metadata": {},
   "outputs": [
    {
     "name": "stdout",
     "output_type": "stream",
     "text": [
      "0.4423666666666667\n"
     ]
    }
   ],
   "source": [
    "XG_y_test_preda =  XGA_model.predict(X_testa)\n",
    "df_test_pred_A['Pred_XG'] = XG_y_test_preda.round(0)\n",
    "Loss_Test_XGA = calculate_loss(df_test_pred_A['Delivery_Days'],df_test_pred_A['Pred_XG'])\n",
    "Loss_function_After.append(Loss_Test_XGA)\n",
    "print(Loss_Test_XGA)"
   ]
  },
  {
   "cell_type": "markdown",
   "id": "e884f0aa",
   "metadata": {},
   "source": [
    "## Plotting Loss values before feature extraction vs Loss values after feature extraction"
   ]
  },
  {
   "cell_type": "code",
   "execution_count": 24,
   "id": "034aabda",
   "metadata": {},
   "outputs": [
    {
     "data": {
      "image/png": "[encoded data removed]",
      "text/plain": [
       "<Figure size 432x288 with 1 Axes>"
      ]
     },
     "metadata": {
      "needs_background": "light"
     },
     "output_type": "display_data"
    }
   ],
   "source": [
    "x_labels = [\"Linear Regression\", \"Random Forest\", \"XG Boost\"]\n",
    "plt.title(\"Before new features VS After new features\")\n",
    "plt.plot(x_labels, Loss_function_Before)\n",
    "plt.plot(x_labels, Loss_function_After)\n",
    "plt.legend([\"Before new features\", \"After new features\"]);"
   ]
  },
  {
   "cell_type": "code",
   "execution_count": null,
   "id": "ef0e9dbd",
   "metadata": {},
   "outputs": [],
   "source": []
  }
 ],
 "metadata": {
  "kernelspec": {
   "display_name": "Python 3 (ipykernel)",
   "language": "python",
   "name": "python3"
  },
  "language_info": {
   "codemirror_mode": {
    "name": "ipython",
    "version": 3
   },
   "file_extension": ".py",
   "mimetype": "text/x-python",
   "name": "python",
   "nbconvert_exporter": "python",
   "pygments_lexer": "ipython3",
   "version": "3.8.8"
  }
 },
 "nbformat": 4,
 "nbformat_minor": 5
}
